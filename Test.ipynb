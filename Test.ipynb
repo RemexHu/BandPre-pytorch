{
 "cells": [
  {
   "cell_type": "code",
   "execution_count": 1,
   "metadata": {
    "collapsed": true
   },
   "outputs": [],
   "source": [
    "import torch\n",
    "import numpy as np\n",
    "import torch.nn as nn\n",
    "import torch.optim as optim\n",
    "import torch.nn.functional as F\n",
    "import torch.utils.data as Data\n",
    "from torch.autograd import Variable\n",
    "\n",
    "import matplotlib.pyplot as plt\n",
    "import pandas\n",
    "import padasip as pa"
   ]
  },
  {
   "cell_type": "code",
   "execution_count": 2,
   "metadata": {
    "collapsed": true
   },
   "outputs": [],
   "source": [
    "def create_Dataset(dir):\n",
    "    # Input: dir, path of log files\n",
    "    # Output: dataset, flattened numpy array\n",
    "    file = pandas.read_csv(dir, names=[\"band\"], sep='\\t')\n",
    "    dataset = file[\"band\"][:]\n",
    "    dataset = np.asarray(dataset).astype(float)\n",
    "    return dataset"
   ]
  },
  {
   "cell_type": "code",
   "execution_count": 3,
   "metadata": {
    "collapsed": true
   },
   "outputs": [],
   "source": [
    "def create_RLSdataset(dataset):\n",
    "    # Input: dataset, flattened numpy array\n",
    "    # Output: (RLS_x, RLS_y), list of RLS tensor\n",
    "    RLS_x, RLS_y = [], []\n",
    "    for i in range(TIME_STEP, len(dataset)):\n",
    "        batch_x = dataset[i - TIME_STEP: i]\n",
    "        batch_y = dataset[i: i + TARGET_SIZE]\n",
    "        RLS_x.append(batch_x)\n",
    "        RLS_y.append(np.array(batch_y))\n",
    "\n",
    "    return RLS_x, RLS_y"
   ]
  },
  {
   "cell_type": "code",
   "execution_count": null,
   "metadata": {
    "collapsed": true
   },
   "outputs": [],
   "source": []
  }
 ],
 "metadata": {
  "kernelspec": {
   "display_name": "Python 3",
   "language": "python",
   "name": "python3"
  },
  "language_info": {
   "codemirror_mode": {
    "name": "ipython",
    "version": 3
   },
   "file_extension": ".py",
   "mimetype": "text/x-python",
   "name": "python",
   "nbconvert_exporter": "python",
   "pygments_lexer": "ipython3",
   "version": "3.6.2"
  }
 },
 "nbformat": 4,
 "nbformat_minor": 2
}
