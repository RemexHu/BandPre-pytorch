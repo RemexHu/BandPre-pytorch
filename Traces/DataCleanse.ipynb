{
 "cells": [
  {
   "cell_type": "code",
   "execution_count": 1,
   "metadata": {},
   "outputs": [],
   "source": [
    "import pandas"
   ]
  },
  {
   "cell_type": "code",
   "execution_count": 111,
   "metadata": {},
   "outputs": [
    {
     "name": "stderr",
     "output_type": "stream",
     "text": [
      "/home/runchen/anaconda3/envs/pytorch/lib/python3.6/site-packages/ipykernel/__main__.py:1: ParserWarning: Falling back to the 'python' engine because the 'c' engine does not support regex separators (separators > 1 char and different from '\\s+' are interpreted as regex); you can avoid this warning by specifying engine='python'.\n",
      "  if __name__ == '__main__':\n"
     ]
    }
   ],
   "source": [
    "file = pandas.read_csv('Ntrain', header=None, sep='Bytes', error_bad_lines=False)"
   ]
  },
  {
   "cell_type": "code",
   "execution_count": 112,
   "metadata": {},
   "outputs": [
    {
     "data": {
      "text/plain": [
       "0         4.05 Mbits/sec\n",
       "1         8.48 Mbits/sec\n",
       "2         7.96 Mbits/sec\n",
       "3         13.0 Mbits/sec\n",
       "4         11.8 Mbits/sec\n",
       "5         12.7 Mbits/sec\n",
       "6         13.3 Mbits/sec\n",
       "7         10.7 Mbits/sec\n",
       "8         11.7 Mbits/sec\n",
       "9         14.4 Mbits/sec\n",
       "10        12.2 Mbits/sec\n",
       "11        16.3 Mbits/sec\n",
       "12        19.4 Mbits/sec\n",
       "13        19.6 Mbits/sec\n",
       "14        21.5 Mbits/sec\n",
       "15        19.9 Mbits/sec\n",
       "16        20.6 Mbits/sec\n",
       "17        14.1 Mbits/sec\n",
       "18        15.7 Mbits/sec\n",
       "19        16.0 Mbits/sec\n",
       "20        14.8 Mbits/sec\n",
       "21        16.2 Mbits/sec\n",
       "22        19.3 Mbits/sec\n",
       "23        18.1 Mbits/sec\n",
       "24        20.0 Mbits/sec\n",
       "25        15.0 Mbits/sec\n",
       "26        17.9 Mbits/sec\n",
       "27        17.3 Mbits/sec\n",
       "28        21.7 Mbits/sec\n",
       "29        21.3 Mbits/sec\n",
       "              ...       \n",
       "1365      10.6 Mbits/sec\n",
       "1366      9.27 Mbits/sec\n",
       "1367      6.94 Mbits/sec\n",
       "1368      12.3 Mbits/sec\n",
       "1369      11.9 Mbits/sec\n",
       "1370      14.2 Mbits/sec\n",
       "1371      13.7 Mbits/sec\n",
       "1372      10.6 Mbits/sec\n",
       "1373      9.22 Mbits/sec\n",
       "1374      9.15 Mbits/sec\n",
       "1375      12.0 Mbits/sec\n",
       "1376      13.0 Mbits/sec\n",
       "1377      10.9 Mbits/sec\n",
       "1378      10.5 Mbits/sec\n",
       "1379      9.63 Mbits/sec\n",
       "1380      13.3 Mbits/sec\n",
       "1381      12.5 Mbits/sec\n",
       "1382      10.7 Mbits/sec\n",
       "1383      10.9 Mbits/sec\n",
       "1384      11.5 Mbits/sec\n",
       "1385      12.3 Mbits/sec\n",
       "1386      12.3 Mbits/sec\n",
       "1387      14.2 Mbits/sec\n",
       "1388      13.5 Mbits/sec\n",
       "1389      15.6 Mbits/sec\n",
       "1390      10.7 Mbits/sec\n",
       "1391      10.8 Mbits/sec\n",
       "1392      12.7 Mbits/sec\n",
       "1393      13.3 Mbits/sec\n",
       "1394      12.9 Mbits/sec\n",
       "Name: 1, Length: 1395, dtype: object"
      ]
     },
     "execution_count": 112,
     "metadata": {},
     "output_type": "execute_result"
    }
   ],
   "source": [
    "file[1]"
   ]
  },
  {
   "cell_type": "code",
   "execution_count": 113,
   "metadata": {},
   "outputs": [],
   "source": [
    "res = []\n",
    "for row in file[1]:\n",
    "    realrow = row.split('bits')[0].strip()\n",
    "    if realrow != '0.00':\n",
    "        num, degree = float(realrow.split(' ')[0]), realrow.split(' ')[1]\n",
    "        if degree == 'K':\n",
    "            num = num / 1000.0\n",
    "    else:\n",
    "        num = 0\n",
    "    \n",
    "    num = round(num,2 )\n",
    "    \n",
    "    \n",
    "    res.append(str(num) + '\\n')"
   ]
  },
  {
   "cell_type": "code",
   "execution_count": 114,
   "metadata": {},
   "outputs": [
    {
     "name": "stdout",
     "output_type": "stream",
     "text": [
      "['4.05\\n', '8.48\\n', '7.96\\n', '13.0\\n', '11.8\\n', '12.7\\n', '13.3\\n', '10.7\\n', '11.7\\n', '14.4\\n', '12.2\\n', '16.3\\n', '19.4\\n', '19.6\\n', '21.5\\n', '19.9\\n', '20.6\\n', '14.1\\n', '15.7\\n', '16.0\\n', '14.8\\n', '16.2\\n', '19.3\\n', '18.1\\n', '20.0\\n', '15.0\\n', '17.9\\n', '17.3\\n', '21.7\\n', '21.3\\n', '25.5\\n', '19.0\\n', '12.8\\n', '14.6\\n', '13.2\\n', '13.9\\n', '14.1\\n', '13.3\\n', '13.7\\n', '16.7\\n', '18.5\\n', '16.4\\n', '17.3\\n', '13.2\\n', '7.16\\n', '9.31\\n', '6.53\\n', '9.51\\n', '10.2\\n', '11.0\\n']\n"
     ]
    }
   ],
   "source": [
    "print(res[:50])"
   ]
  },
  {
   "cell_type": "code",
   "execution_count": 115,
   "metadata": {},
   "outputs": [],
   "source": [
    "with open('Ntrain_clean.txt', 'w', encoding='utf-8') as writer:\n",
    "    writer.writelines(res)"
   ]
  },
  {
   "cell_type": "code",
   "execution_count": null,
   "metadata": {},
   "outputs": [],
   "source": []
  }
 ],
 "metadata": {
  "kernelspec": {
   "display_name": "Python [conda env:pytorch]",
   "language": "python",
   "name": "conda-env-pytorch-py"
  },
  "language_info": {
   "codemirror_mode": {
    "name": "ipython",
    "version": 3
   },
   "file_extension": ".py",
   "mimetype": "text/x-python",
   "name": "python",
   "nbconvert_exporter": "python",
   "pygments_lexer": "ipython3",
   "version": "3.6.4"
  }
 },
 "nbformat": 4,
 "nbformat_minor": 2
}
